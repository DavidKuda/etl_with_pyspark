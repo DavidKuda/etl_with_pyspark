{
 "cells": [
  {
   "cell_type": "code",
   "execution_count": 7,
   "id": "c6fcad27-1197-49f2-ad2d-1d1b8dd84f54",
   "metadata": {},
   "outputs": [
    {
     "name": "stdout",
     "output_type": "stream",
     "text": [
      "Collecting boto3\n",
      "  Downloading boto3-1.18.12-py3-none-any.whl (131 kB)\n",
      "\u001b[K     |████████████████████████████████| 131 kB 432 kB/s eta 0:00:01\n",
      "\u001b[?25hCollecting s3transfer<0.6.0,>=0.5.0\n",
      "  Downloading s3transfer-0.5.0-py3-none-any.whl (79 kB)\n",
      "\u001b[K     |████████████████████████████████| 79 kB 455 kB/s eta 0:00:01\n",
      "\u001b[?25hCollecting botocore<1.22.0,>=1.21.12\n",
      "  Downloading botocore-1.21.12-py3-none-any.whl (7.8 MB)\n",
      "\u001b[K     |████████████████████████████████| 7.8 MB 297 kB/s eta 0:00:01\n",
      "\u001b[?25hCollecting jmespath<1.0.0,>=0.7.1\n",
      "  Downloading jmespath-0.10.0-py2.py3-none-any.whl (24 kB)\n",
      "Requirement already satisfied: python-dateutil<3.0.0,>=2.1 in /opt/conda/lib/python3.9/site-packages (from botocore<1.22.0,>=1.21.12->boto3) (2.8.2)\n",
      "Requirement already satisfied: urllib3<1.27,>=1.25.4 in /opt/conda/lib/python3.9/site-packages (from botocore<1.22.0,>=1.21.12->boto3) (1.26.6)\n",
      "Requirement already satisfied: six>=1.5 in /opt/conda/lib/python3.9/site-packages (from python-dateutil<3.0.0,>=2.1->botocore<1.22.0,>=1.21.12->boto3) (1.16.0)\n",
      "Installing collected packages: jmespath, botocore, s3transfer, boto3\n",
      "Successfully installed boto3-1.18.12 botocore-1.21.12 jmespath-0.10.0 s3transfer-0.5.0\n"
     ]
    }
   ],
   "source": [
    "!pip install boto3"
   ]
  },
  {
   "cell_type": "code",
   "execution_count": 16,
   "id": "c71e29d0-76cd-4f6b-b728-7943e350c7f9",
   "metadata": {},
   "outputs": [],
   "source": [
    "import configparser\n",
    "\n",
    "import boto3"
   ]
  },
  {
   "cell_type": "code",
   "execution_count": 31,
   "id": "68f77c43-ea64-41f2-b117-1722d37da517",
   "metadata": {},
   "outputs": [],
   "source": [
    "config = configparser.ConfigParser()\n",
    "config.read('../dl.cfg')\n",
    "aws_access_key_id = config['AWS']['aws_access_key_id']\n",
    "aws_secret_access_key = config['AWS']['aws_secret_access_key']\n",
    "region_name = 'us-east-1'\n",
    "\n",
    "aws_session = boto3.Session(aws_access_key_id=aws_access_key_id,\n",
    "                            aws_secret_access_key=aws_secret_access_key,\n",
    "                            region_name=region_name)"
   ]
  },
  {
   "cell_type": "code",
   "execution_count": 32,
   "id": "148493f8-2bef-4e57-8477-f4184e39b716",
   "metadata": {},
   "outputs": [],
   "source": [
    "s3 = aws_session.client('s3')"
   ]
  },
  {
   "cell_type": "code",
   "execution_count": 38,
   "id": "7fe7468c-0e83-46a5-8330-12d6651c206e",
   "metadata": {},
   "outputs": [
    {
     "data": {
      "text/plain": [
       "['aws-emr-resources-787511476638-us-west-2',\n",
       " 'aws-logs-787511476638-us-east-1',\n",
       " 'data-lake-etl']"
      ]
     },
     "execution_count": 38,
     "metadata": {},
     "output_type": "execute_result"
    }
   ],
   "source": [
    "[bucket['Name'] for bucket in s3.list_buckets()['Buckets']]"
   ]
  },
  {
   "cell_type": "code",
   "execution_count": 37,
   "id": "17427dcf-3560-43f2-bccf-97a179160847",
   "metadata": {},
   "outputs": [
    {
     "data": {
      "text/plain": [
       "{'ResponseMetadata': {'RequestId': '2D3XC2C6TAXK3KRG',\n",
       "  'HostId': 'UlI2IYT991rxAhLbViHUxloyC9ylPSFu2t10VPCvp5LWtEfYq4vtBDnSDeh3uVhgJbsx2CGAtO8=',\n",
       "  'HTTPStatusCode': 200,\n",
       "  'HTTPHeaders': {'x-amz-id-2': 'UlI2IYT991rxAhLbViHUxloyC9ylPSFu2t10VPCvp5LWtEfYq4vtBDnSDeh3uVhgJbsx2CGAtO8=',\n",
       "   'x-amz-request-id': '2D3XC2C6TAXK3KRG',\n",
       "   'date': 'Mon, 02 Aug 2021 21:35:42 GMT',\n",
       "   'location': '/data-lake-etl',\n",
       "   'server': 'AmazonS3',\n",
       "   'content-length': '0'},\n",
       "  'RetryAttempts': 0},\n",
       " 'Location': '/data-lake-etl'}"
      ]
     },
     "execution_count": 37,
     "metadata": {},
     "output_type": "execute_result"
    }
   ],
   "source": [
    "s3.create_bucket(Bucket='data-lake-etl')"
   ]
  },
  {
   "cell_type": "code",
   "execution_count": null,
   "id": "3e841f85-bb43-48b8-afdf-8f72f3f1dab5",
   "metadata": {},
   "outputs": [],
   "source": []
  }
 ],
 "metadata": {
  "kernelspec": {
   "display_name": "Python 3 (ipykernel)",
   "language": "python",
   "name": "python3"
  },
  "language_info": {
   "codemirror_mode": {
    "name": "ipython",
    "version": 3
   },
   "file_extension": ".py",
   "mimetype": "text/x-python",
   "name": "python",
   "nbconvert_exporter": "python",
   "pygments_lexer": "ipython3",
   "version": "3.9.6"
  }
 },
 "nbformat": 4,
 "nbformat_minor": 5
}
